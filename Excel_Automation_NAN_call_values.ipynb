{
  "nbformat": 4,
  "nbformat_minor": 0,
  "metadata": {
    "colab": {
      "name": "Excel_Automation_NAN_call_values.ipynb",
      "provenance": [],
      "collapsed_sections": [],
      "include_colab_link": true
    },
    "kernelspec": {
      "display_name": "Python 3",
      "name": "python3"
    },
    "language_info": {
      "name": "python"
    }
  },
  "cells": [
    {
      "cell_type": "markdown",
      "metadata": {
        "id": "view-in-github",
        "colab_type": "text"
      },
      "source": [
        "<a href=\"https://colab.research.google.com/github/indranimahato/Automation-Excel/blob/main/Excel_Automation_NAN_call_values.ipynb\" target=\"_parent\"><img src=\"https://colab.research.google.com/assets/colab-badge.svg\" alt=\"Open In Colab\"/></a>"
      ]
    },
    {
      "cell_type": "code",
      "metadata": {
        "colab": {
          "base_uri": "https://localhost:8080/"
        },
        "id": "wCEvQdrElI8W",
        "outputId": "e68f1e5a-d1dd-4efc-da4c-d7d60127aab5"
      },
      "source": [
        "from google.colab import drive \n",
        "drive.mount('/content/drive')"
      ],
      "execution_count": null,
      "outputs": [
        {
          "output_type": "stream",
          "text": [
            "Mounted at /content/drive\n"
          ],
          "name": "stdout"
        }
      ]
    },
    {
      "cell_type": "markdown",
      "metadata": {
        "id": "9Kdq9RAzTMeE"
      },
      "source": [
        ""
      ]
    },
    {
      "cell_type": "code",
      "metadata": {
        "colab": {
          "base_uri": "https://localhost:8080/"
        },
        "id": "iUzaYYOvo-ec",
        "outputId": "a670ef32-e9a9-4fbf-fa88-69562c901dd1"
      },
      "source": [
        "# import module\n",
        "import openpyxl\n",
        "import pdb\n",
        "# load excel with its path\n",
        "wrkbk = openpyxl.load_workbook(\"/content/drive/MyDrive/Book1.xlsx\")\n",
        "print(\"Llist of all sheetnames:---  \",wrkbk.sheetnames)\n",
        "print(len(wrkbk.sheetnames))\n",
        "\n",
        "\n",
        "g_sheet=wrkbk.sheetnames\n",
        "list_sheet = [1,2,3]\n",
        "\n",
        "#list_sheet = [0:int(count)]\n",
        "for i in list_sheet:\n",
        "    #pdb.set_trace()\n",
        "    wrkbk.active = i\n",
        "    sh = wrkbk.active\n",
        "    i = i+1\n",
        "    x3 = sh.cell(row=5, column=2)  \n",
        "    #pdb.set_trace()\n",
        "    print(\"\\n\")\n",
        "    print(\"Comments: \", x3.value)   \n",
        "    print(\"\\n\")\n",
        "# iterate through excel and display data\n",
        "    for row in sh.iter_rows(min_row=11, min_col=7,max_row=15, max_col=10):\n",
        "              for cell in row:   \n",
        "                  print(cell.value, end= \" \")                         \n",
        "              print() \n",
        "\n",
        "    for row in sh.iter_rows(min_row=11, min_col=7, max_row=15, max_col=10):\n",
        "              for cell in row:\n",
        "                if cell.value is None:\n",
        "                      print (cell.column, cell.row, end = \" --\")\n",
        "                    \n",
        "\n",
        "           \n",
        "                      "
      ],
      "execution_count": null,
      "outputs": [
        {
          "output_type": "stream",
          "text": [
            "Llist of all sheetnames:---   ['Device data', '1.1', '1.2', '1.3', 'Sheet1', 'Sheet2', 'Sheet3', 'Sheet4']\n",
            "8\n",
            "\n",
            "\n",
            "Comments:  ws-1.1 .Hello, if something is blank for test case, same will update here\n",
            "\n",
            "\n",
            "Samsung galaxy s21+ Samsung galaxy S20 Google Pixel 3a XL Oneplus 7 pro \n",
            "ok None OK OK \n",
            "None OK None OK \n",
            "OK OK Partly OK OK \n",
            "NOK None NOK NOT SUPPORTED \n",
            "H 12 --G 13 --I 13 --H 15 --\n",
            "\n",
            "Comments:  ws-1.2 hello hello helloHello, if something is blank for test case, same will update here\n",
            "\n",
            "\n",
            "Samsung galaxy s21+ Samsung galaxy S20 Google Pixel 3a XL Oneplus 7 pro \n",
            "OK OK OK OK \n",
            "OK OK OK OK \n",
            "None OK Partly OK OK \n",
            "NOK OK NOK NOT SUPPORTED \n",
            "G 14 --\n",
            "\n",
            "Comments:  ws-1.3 Hello, if something is blank for test case, same will update here\n",
            "\n",
            "\n",
            "Samsung galaxy s21+ Samsung galaxy S20 Google Pixel 3a XL Oneplus 7 pro \n",
            "OK OK OK OK \n",
            "OK OK OK OK \n",
            "OK OK Partly OK OK \n",
            "NOK OK NOK NOT SUPPORTED \n"
          ],
          "name": "stdout"
        }
      ]
    },
    {
      "cell_type": "code",
      "metadata": {
        "id": "R8p9j_dN00Nb"
      },
      "source": [
        ""
      ],
      "execution_count": null,
      "outputs": []
    },
    {
      "cell_type": "markdown",
      "metadata": {
        "id": "oEw5CFyQoGKC"
      },
      "source": [
        "TEtsing -modification- ignore blow codes**"
      ]
    },
    {
      "cell_type": "code",
      "metadata": {
        "id": "tu9q5DOh2UBo"
      },
      "source": [
        "# import module\n",
        "import openpyxl\n",
        "# load excel with its path\n",
        "wrkbk =openpyxl.load_workbook(\"/content/drive/MyDrive/Book1.xlsx\")\n",
        "print(wrkbk.sheetnames)\n",
        "g_sheet=wrkbk.sheetnames\n",
        "list_sheet = [1,2,3]\n",
        "avni = 1\n",
        "count = 1\n",
        "a_list = []\n",
        "c_list = []\n",
        "b_list = []\n",
        "for i in list_sheet:   #i =1.1\n",
        "    wrkbk.active = i\n",
        "    sh = wrkbk.active\n",
        "    i = i+1\n",
        "    print(\"\\n\")\n",
        "# iterate through excel and display data\n",
        "    for row in sh.iter_rows(min_row=11,max_row = 11, min_col = 7):    # row = 11\n",
        "              for cell in row:     #11\n",
        "                if cell.value == \"testphone 1\" : \n",
        "                  break\n",
        "                else:                               \n",
        "                      print(cell.value, end = \"  ; \")\n",
        "                      a_list.append(cell.value)                     "
      ],
      "execution_count": null,
      "outputs": []
    },
    {
      "cell_type": "code",
      "metadata": {
        "id": "nVrZy8-3oOmP"
      },
      "source": [
        "import openpyxl\n",
        "# load excel with its path\n",
        "wrkbk =openpyxl.load_workbook(\"/content/drive/MyDrive/Book1.xlsx\")\n",
        "print(wrkbk.sheetnames)\n",
        "g_sheet=wrkbk.sheetnames\n",
        "list_sheet = 1\n"
      ],
      "execution_count": null,
      "outputs": []
    },
    {
      "cell_type": "code",
      "metadata": {
        "id": "PEyY3tP2Mz8a"
      },
      "source": [
        "# import module\n",
        "import openpyxl\n",
        "import pdb\n",
        "# load excel with its path\n",
        "wrkbk = openpyxl.load_workbook(\"/content/drive/MyDrive/Book1.xlsx\")\n",
        "print(\"Llist of all sheetnames:---  \",wrkbk.sheetnames)\n",
        "g_sheet=wrkbk.sheetnames\n",
        "print(g_sheet.count(\"i\"))"
      ],
      "execution_count": null,
      "outputs": []
    },
    {
      "cell_type": "code",
      "metadata": {
        "colab": {
          "base_uri": "https://localhost:8080/"
        },
        "id": "GAKsAoNnC0gD",
        "outputId": "8e32d923-b119-41e5-f0b4-1f5bd8600121"
      },
      "source": [
        "#Avniiiiiiiii\n",
        "# import module\n",
        "import openpyxl\n",
        "import pdb\n",
        "# load excel with its path\n",
        "wrkbk = openpyxl.load_workbook(\"/content/drive/MyDrive/Book1.xlsx\")\n",
        "print(\"Llist of all sheetnames:---  \",wrkbk.sheetnames)\n",
        "g_sheet=wrkbk.sheetnames\n",
        "count = 0\n",
        "for i in g_sheet:\n",
        "  count = count + 1\n",
        "print(count)"
      ],
      "execution_count": null,
      "outputs": [
        {
          "output_type": "stream",
          "text": [
            "Llist of all sheetnames:---   ['Device data', 'Sheet1', '1.1', '1.2', '1.3']\n",
            "5\n"
          ],
          "name": "stdout"
        }
      ]
    },
    {
      "cell_type": "markdown",
      "metadata": {
        "id": "J5iEY0uLOQhl"
      },
      "source": [
        "# **Know Pain KNOW Gain**"
      ]
    },
    {
      "cell_type": "code",
      "metadata": {
        "id": "3P5S_KgMDAdJ",
        "colab": {
          "base_uri": "https://localhost:8080/"
        },
        "outputId": "9829a2a1-d6f2-4c16-e898-1a26d4e09a59"
      },
      "source": [
        "# import module\n",
        "import openpyxl\n",
        "import pdb\n",
        "# load excel with its path\n",
        "wrkbk = openpyxl.load_workbook(\"/content/drive/MyDrive/Book1.xlsx\")\n",
        "print(\"Llist of all sheetnames:---  \",wrkbk.sheetnames)\n",
        "print(len(wrkbk.sheetnames))\n",
        "\n",
        "g_sheet=wrkbk.sheetnames\n",
        "gt_s = len(g_sheet) \n",
        "#gt_s = gt_s + 1\n",
        "#gt_e = 0\n",
        "list_sheet = [*range(1, gt_s)]   #creating a dynamic  range variyng from 1.1 to last sheet \n",
        "print(list_sheet)\n",
        "#list_sheet = [1,2,3]\n",
        "for i in list_sheet:\n",
        "    #pdb.set_trace()\n",
        "    wrkbk.active = i\n",
        "    sh = wrkbk.active\n",
        "    i = i+1\n",
        "    x3 = sh.cell(row=5, column=2)  \n",
        "    #pdb.set_trace()\n",
        "    print(\"\\n\")\n",
        "    print(\"Comments: \", x3.value)   \n",
        "# iterate through excel and display data\n",
        "   # for row in sh.iter_rows(min_row=11, min_col=7,max_row=15, max_col=10):\n",
        "    #          for cell in row:   \n",
        "     #             print(cell.value, end= \" \")                         \n",
        "      #        print() \n",
        "\n",
        "    for row in sh.iter_rows(min_row=11, min_col=7, max_row=15, max_col=10):\n",
        "              for cell in row:\n",
        "                if cell.value is None:\n",
        "                      print (cell.column, cell.row, end = \" --\")"
      ],
      "execution_count": null,
      "outputs": [
        {
          "output_type": "stream",
          "text": [
            "Llist of all sheetnames:---   ['Device data', '1.1', '1.2', '1.3', 'Sheet1', 'Sheet2', 'Sheet3', 'Sheet4']\n",
            "8\n",
            "[1, 2, 3, 4, 5, 6, 7]\n",
            "\n",
            "\n",
            "Comments:  ws-1.1 .Hello, if something is blank for test case, same will update here\n",
            "H 12 --G 13 --I 13 --H 15 --\n",
            "\n",
            "Comments:  ws-1.2 hello hello helloHello, if something is blank for test case, same will update here\n",
            "G 14 --\n",
            "\n",
            "Comments:  ws-1.3 Hello, if something is blank for test case, same will update here\n",
            "\n",
            "\n",
            "Comments:  None\n",
            "G 11 --H 11 --I 11 --J 11 --G 12 --H 12 --I 12 --J 12 --G 13 --H 13 --I 13 --J 13 --G 14 --H 14 --I 14 --J 14 --G 15 --H 15 --I 15 --J 15 --\n",
            "\n",
            "Comments:  None\n",
            "G 11 --H 11 --I 11 --J 11 --G 12 --H 12 --I 12 --J 12 --G 13 --H 13 --I 13 --J 13 --G 14 --H 14 --I 14 --J 14 --G 15 --H 15 --I 15 --J 15 --\n",
            "\n",
            "Comments:  None\n",
            "G 11 --H 11 --I 11 --J 11 --G 12 --H 12 --I 12 --J 12 --G 13 --H 13 --I 13 --J 13 --G 14 --H 14 --I 14 --J 14 --G 15 --H 15 --I 15 --J 15 --\n",
            "\n",
            "Comments:  None\n",
            "G 11 --H 11 --I 11 --J 11 --G 12 --H 12 --I 12 --J 12 --G 13 --H 13 --I 13 --J 13 --G 14 --H 14 --I 14 --J 14 --G 15 --H 15 --I 15 --J 15 --"
          ],
          "name": "stdout"
        }
      ]
    },
    {
      "cell_type": "code",
      "metadata": {
        "id": "Y2WLf-skUgt1"
      },
      "source": [
        ""
      ],
      "execution_count": null,
      "outputs": []
    },
    {
      "cell_type": "code",
      "metadata": {
        "id": "W1RmpC4FUc8_"
      },
      "source": [
        ""
      ],
      "execution_count": null,
      "outputs": []
    },
    {
      "cell_type": "code",
      "metadata": {
        "id": "gebvJkesLZ_P",
        "colab": {
          "base_uri": "https://localhost:8080/"
        },
        "outputId": "bd21b248-b168-42e9-97b0-87742e2d067a"
      },
      "source": [
        "My_list = [*range(10, 21)]\n",
        "a = My_list\n",
        "print(a)\n",
        "i = 1\n",
        "for i in a:\n",
        "  i = i+1\n",
        "  print(i)\n",
        "# Print the list\n",
        "print(My_list)"
      ],
      "execution_count": null,
      "outputs": [
        {
          "output_type": "stream",
          "text": [
            "[10, 11, 12, 13, 14, 15, 16, 17, 18, 19, 20]\n",
            "11\n",
            "12\n",
            "13\n",
            "14\n",
            "15\n",
            "16\n",
            "17\n",
            "18\n",
            "19\n",
            "20\n",
            "21\n",
            "[10, 11, 12, 13, 14, 15, 16, 17, 18, 19, 20]\n"
          ],
          "name": "stdout"
        }
      ]
    },
    {
      "cell_type": "code",
      "metadata": {
        "id": "g9Sm1yfqRmTO"
      },
      "source": [
        ""
      ],
      "execution_count": null,
      "outputs": []
    }
  ]
}